{
 "cells": [
  {
   "cell_type": "code",
   "execution_count": 1,
   "metadata": {},
   "outputs": [],
   "source": [
    "import os\n",
    "import sys\n",
    "import numpy as np\n",
    "import matplotlib.pyplot as plt"
   ]
  },
  {
   "cell_type": "code",
   "execution_count": 2,
   "metadata": {},
   "outputs": [
    {
     "name": "stderr",
     "output_type": "stream",
     "text": [
      "Using TensorFlow backend.\n"
     ]
    }
   ],
   "source": [
    "import keras.backend as k\n",
    "from keras.models import Model\n",
    "from keras.layers import Input, LSTM, GRU, Dense, Embedding,Bidirectional, RepeatVector, Concatenate, Activation, Dot, Lambda\n",
    "from keras.preprocessing.text import Tokenizer\n",
    "from keras.preprocessing.sequence import pad_sequences\n",
    "from keras.utils import to_categorical"
   ]
  },
  {
   "cell_type": "code",
   "execution_count": 3,
   "metadata": {},
   "outputs": [],
   "source": [
    "def softmax_over_time(x):\n",
    "    e = k.exp(x - k.max(x, axis=1,keepdims=True))\n",
    "    s = k.sum(e, axis=1, keepdims=True)\n",
    "    return e/s"
   ]
  },
  {
   "cell_type": "code",
   "execution_count": 4,
   "metadata": {},
   "outputs": [],
   "source": [
    "BATCH_SIZE = 64  \n",
    "EPOCHS = 100  \n",
    "LATENT_DIM = 256  \n",
    "NUM_SAMPLES = 30000\n",
    "MAX_SEQUENCE_LENGTH = 100\n",
    "MAX_NUM_WORDS = 20000\n",
    "EMBEDDING_DIM = 100\n",
    "LATENT_DIM_DECODER = 256 "
   ]
  },
  {
   "cell_type": "code",
   "execution_count": 5,
   "metadata": {},
   "outputs": [],
   "source": [
    "input_texts = [] \n",
    "target_texts = [] \n",
    "target_texts_inputs = []"
   ]
  },
  {
   "cell_type": "code",
   "execution_count": 6,
   "metadata": {},
   "outputs": [
    {
     "name": "stdout",
     "output_type": "stream",
     "text": [
      "num samples: 30000\n"
     ]
    }
   ],
   "source": [
    "t = 0\n",
    "for line in open('ita-eng/ita.txt',encoding='utf-8'):\n",
    "    t += 1\n",
    "    if t > NUM_SAMPLES:\n",
    "        break\n",
    "\n",
    "    if '\\t' not in line:\n",
    "        continue\n",
    "\n",
    "    input_text, translation = line.rstrip().split('\\t')\n",
    "\n",
    "    target_text = translation + ' <eos>'\n",
    "    target_text_input = '<sos> ' + translation\n",
    "\n",
    "    input_texts.append(input_text)\n",
    "    target_texts.append(target_text)\n",
    "    target_texts_inputs.append(target_text_input)\n",
    "print(\"num samples:\", len(input_texts))"
   ]
  },
  {
   "cell_type": "code",
   "execution_count": 7,
   "metadata": {},
   "outputs": [],
   "source": [
    "#### input- English\n",
    "#### output- Italian"
   ]
  },
  {
   "cell_type": "code",
   "execution_count": 8,
   "metadata": {},
   "outputs": [],
   "source": [
    "tokenizer_inputs = Tokenizer(num_words=MAX_NUM_WORDS)\n",
    "tokenizer_inputs.fit_on_texts(input_texts)\n",
    "input_sequences = tokenizer_inputs.texts_to_sequences(input_texts)"
   ]
  },
  {
   "cell_type": "code",
   "execution_count": 9,
   "metadata": {},
   "outputs": [
    {
     "name": "stdout",
     "output_type": "stream",
     "text": [
      "3113 unique input tokens.\n"
     ]
    }
   ],
   "source": [
    "word2idx_inputs = tokenizer_inputs.word_index\n",
    "print('{} unique input tokens.'.format(len(word2idx_inputs)))"
   ]
  },
  {
   "cell_type": "code",
   "execution_count": 10,
   "metadata": {},
   "outputs": [],
   "source": [
    "max_len_input = max(len(s) for s in input_sequences)"
   ]
  },
  {
   "cell_type": "code",
   "execution_count": 11,
   "metadata": {},
   "outputs": [
    {
     "name": "stdout",
     "output_type": "stream",
     "text": [
      "Found 9727 unique output tokens.\n"
     ]
    }
   ],
   "source": [
    "tokenizer_outputs = Tokenizer(num_words=MAX_NUM_WORDS, filters='')\n",
    "tokenizer_outputs.fit_on_texts(target_texts + target_texts_inputs) \n",
    "target_sequences = tokenizer_outputs.texts_to_sequences(target_texts)\n",
    "target_sequences_inputs = tokenizer_outputs.texts_to_sequences(target_texts_inputs)\n",
    "\n",
    "word2idx_outputs = tokenizer_outputs.word_index\n",
    "print('Found %s unique output tokens.' % len(word2idx_outputs))"
   ]
  },
  {
   "cell_type": "code",
   "execution_count": 12,
   "metadata": {},
   "outputs": [],
   "source": [
    "num_words_output = len(word2idx_outputs) + 1    ####because the encoding starts from 1\n",
    "max_len_target = max(len(s) for s in target_sequences)"
   ]
  },
  {
   "cell_type": "code",
   "execution_count": 13,
   "metadata": {},
   "outputs": [
    {
     "name": "stdout",
     "output_type": "stream",
     "text": [
      "encoder_inputs.shape: (30000, 5)\n",
      "encoder_inputs[0]: [   0    0    0    0 1382]\n"
     ]
    }
   ],
   "source": [
    "encoder_inputs = pad_sequences(input_sequences, maxlen=max_len_input)\n",
    "print(\"encoder_inputs.shape:\", encoder_inputs.shape)\n",
    "print(\"encoder_inputs[0]:\", encoder_inputs[0])"
   ]
  },
  {
   "cell_type": "code",
   "execution_count": 14,
   "metadata": {},
   "outputs": [
    {
     "name": "stdout",
     "output_type": "stream",
     "text": [
      "decoder_inputs[0]: [   2 1839    0    0    0    0    0    0    0]\n",
      "decoder_inputs.shape: (30000, 9)\n"
     ]
    }
   ],
   "source": [
    "decoder_inputs = pad_sequences(target_sequences_inputs, maxlen=max_len_target, padding='post')\n",
    "print(\"decoder_inputs[0]:\", decoder_inputs[0])\n",
    "print(\"decoder_inputs.shape:\", decoder_inputs.shape)"
   ]
  },
  {
   "cell_type": "code",
   "execution_count": 15,
   "metadata": {},
   "outputs": [],
   "source": [
    "decoder_targets = pad_sequences(target_sequences, maxlen=max_len_target, padding='post')"
   ]
  },
  {
   "cell_type": "code",
   "execution_count": 16,
   "metadata": {},
   "outputs": [
    {
     "name": "stdout",
     "output_type": "stream",
     "text": [
      "found 400000 words in embedding\n"
     ]
    }
   ],
   "source": [
    "word2vec = {}\n",
    "with open('glove.6B/glove.6B.100d.txt',encoding='utf-8') as f:\n",
    "    for line in f:\n",
    "        values = line.split()\n",
    "        word = values[0]\n",
    "        vec = np.asarray(values[1:], dtype='float32')\n",
    "        word2vec[word] = vec\n",
    "print('found {} words in embedding'.format(len(word2vec)))"
   ]
  },
  {
   "cell_type": "code",
   "execution_count": 17,
   "metadata": {},
   "outputs": [],
   "source": [
    "num_words = min(MAX_NUM_WORDS, len(word2idx_inputs) + 1)\n",
    "embedding_matrix = np.zeros((num_words, EMBEDDING_DIM))\n",
    "for word, i in word2idx_inputs.items():\n",
    "    if i < MAX_NUM_WORDS:\n",
    "        embedding_vector = word2vec.get(word)\n",
    "    if embedding_vector is not None:                                                        \n",
    "        embedding_matrix[i] = embedding_vector  # words not found in embedding index will be all zeros."
   ]
  },
  {
   "cell_type": "code",
   "execution_count": 18,
   "metadata": {},
   "outputs": [
    {
     "name": "stderr",
     "output_type": "stream",
     "text": [
      "WARNING: Logging before flag parsing goes to stderr.\n",
      "W0814 00:55:00.351941 14044 deprecation_wrapper.py:119] From C:\\ProgramData\\Anaconda3\\lib\\site-packages\\keras\\backend\\tensorflow_backend.py:74: The name tf.get_default_graph is deprecated. Please use tf.compat.v1.get_default_graph instead.\n",
      "\n"
     ]
    }
   ],
   "source": [
    "embedding_layer = Embedding(num_words,EMBEDDING_DIM,weights=[embedding_matrix],input_length=max_len_input,)"
   ]
  },
  {
   "cell_type": "code",
   "execution_count": 19,
   "metadata": {},
   "outputs": [],
   "source": [
    "decoder_targets_one_hot = np.zeros((len(input_texts),max_len_target,num_words_output)) ####for using categorical crossentropy"
   ]
  },
  {
   "cell_type": "code",
   "execution_count": 20,
   "metadata": {},
   "outputs": [],
   "source": [
    "for i, d in enumerate(decoder_targets):\n",
    "    for t, word in enumerate(d):\n",
    "        decoder_targets_one_hot[i, t, word] = 1"
   ]
  },
  {
   "cell_type": "code",
   "execution_count": 21,
   "metadata": {},
   "outputs": [
    {
     "name": "stderr",
     "output_type": "stream",
     "text": [
      "W0814 00:55:01.544985 14044 deprecation_wrapper.py:119] From C:\\ProgramData\\Anaconda3\\lib\\site-packages\\keras\\backend\\tensorflow_backend.py:517: The name tf.placeholder is deprecated. Please use tf.compat.v1.placeholder instead.\n",
      "\n",
      "W0814 00:55:01.550966 14044 deprecation_wrapper.py:119] From C:\\ProgramData\\Anaconda3\\lib\\site-packages\\keras\\backend\\tensorflow_backend.py:4138: The name tf.random_uniform is deprecated. Please use tf.random.uniform instead.\n",
      "\n",
      "W0814 00:55:01.569914 14044 deprecation_wrapper.py:119] From C:\\ProgramData\\Anaconda3\\lib\\site-packages\\keras\\backend\\tensorflow_backend.py:174: The name tf.get_default_session is deprecated. Please use tf.compat.v1.get_default_session instead.\n",
      "\n",
      "W0814 00:55:01.571919 14044 deprecation_wrapper.py:119] From C:\\ProgramData\\Anaconda3\\lib\\site-packages\\keras\\backend\\tensorflow_backend.py:181: The name tf.ConfigProto is deprecated. Please use tf.compat.v1.ConfigProto instead.\n",
      "\n"
     ]
    }
   ],
   "source": [
    "encoder_inputs_placeholder = Input(shape=(max_len_input,))\n",
    "x = embedding_layer(encoder_inputs_placeholder)\n",
    "encoder =  Bidirectional(LSTM(LATENT_DIM, return_sequences=True))\n",
    "encoder_outputs = encoder(x)"
   ]
  },
  {
   "cell_type": "code",
   "execution_count": 22,
   "metadata": {},
   "outputs": [],
   "source": [
    "decoder_inputs_placeholder = Input(shape=(max_len_target,))\n",
    "decoder_embedding = Embedding(num_words_output, EMBEDDING_DIM)\n",
    "decoder_inputs_x = decoder_embedding(decoder_inputs_placeholder)"
   ]
  },
  {
   "cell_type": "code",
   "execution_count": 23,
   "metadata": {},
   "outputs": [],
   "source": [
    "attn_repeat_layer = RepeatVector(max_len_input)\n",
    "attn_concat_layer = Concatenate(axis=-1)  \n",
    "attn_dense1 = Dense(10, activation='tanh')\n",
    "attn_dense2 = Dense(1, activation=softmax_over_time)\n",
    "attn_dot = Dot(axes=1)"
   ]
  },
  {
   "cell_type": "code",
   "execution_count": 24,
   "metadata": {},
   "outputs": [],
   "source": [
    "def one_step_attention(h, st_1):\n",
    "\n",
    "    st_1 = attn_repeat_layer(st_1)\n",
    "\n",
    "    x = attn_concat_layer([h, st_1])\n",
    "\n",
    "    x = attn_dense1(x)\n",
    "\n",
    "    alphas = attn_dense2(x)\n",
    "\n",
    "    context = attn_dot([alphas, h])\n",
    "\n",
    "    return context"
   ]
  },
  {
   "cell_type": "code",
   "execution_count": 25,
   "metadata": {},
   "outputs": [],
   "source": [
    "decoder_lstm = LSTM(LATENT_DIM_DECODER, return_state=True)\n",
    "decoder_dense = Dense(num_words_output, activation='softmax')\n",
    "\n",
    "initial_s = Input(shape=(LATENT_DIM_DECODER,), name='s0')\n",
    "initial_c = Input(shape=(LATENT_DIM_DECODER,), name='c0')\n",
    "context_last_word_concat_layer = Concatenate(axis=2)"
   ]
  },
  {
   "cell_type": "code",
   "execution_count": 26,
   "metadata": {},
   "outputs": [],
   "source": [
    "s = initial_s\n",
    "c = initial_c"
   ]
  },
  {
   "cell_type": "code",
   "execution_count": 27,
   "metadata": {},
   "outputs": [],
   "source": [
    "outputs = []\n",
    "for t in range(max_len_target): # Ty times\n",
    "    context = one_step_attention(encoder_outputs, s)\n",
    "    selector = Lambda(lambda x: x[:, t:t+1])\n",
    "    xt = selector(decoder_inputs_x)\n",
    "    decoder_lstm_input = context_last_word_concat_layer([context, xt])\n",
    "\n",
    "    o, s, c = decoder_lstm(decoder_lstm_input, initial_state=[s, c])\n",
    "\n",
    "    decoder_outputs = decoder_dense(o)\n",
    "    outputs.append(decoder_outputs)"
   ]
  },
  {
   "cell_type": "code",
   "execution_count": 28,
   "metadata": {},
   "outputs": [],
   "source": [
    "def stack_and_transpose(x):\n",
    "    x = k.stack(x) \n",
    "    x = k.permute_dimensions(x, pattern=(1, 0, 2)) \n",
    "    return x"
   ]
  },
  {
   "cell_type": "code",
   "execution_count": 29,
   "metadata": {},
   "outputs": [],
   "source": [
    "stacker = Lambda(stack_and_transpose)\n",
    "outputs = stacker(outputs)"
   ]
  },
  {
   "cell_type": "code",
   "execution_count": 30,
   "metadata": {},
   "outputs": [],
   "source": [
    "model = Model(inputs=[encoder_inputs_placeholder,decoder_inputs_placeholder,initial_s, initial_c,],outputs=outputs)"
   ]
  },
  {
   "cell_type": "code",
   "execution_count": 31,
   "metadata": {},
   "outputs": [
    {
     "name": "stderr",
     "output_type": "stream",
     "text": [
      "W0814 00:55:05.655313 14044 deprecation_wrapper.py:119] From C:\\ProgramData\\Anaconda3\\lib\\site-packages\\keras\\optimizers.py:790: The name tf.train.Optimizer is deprecated. Please use tf.compat.v1.train.Optimizer instead.\n",
      "\n"
     ]
    }
   ],
   "source": [
    "model.compile(optimizer='adam', loss='categorical_crossentropy', metrics=['accuracy'])"
   ]
  },
  {
   "cell_type": "code",
   "execution_count": 33,
   "metadata": {},
   "outputs": [],
   "source": [
    "z = np.zeros((NUM_SAMPLES, LATENT_DIM_DECODER))"
   ]
  },
  {
   "cell_type": "code",
   "execution_count": 35,
   "metadata": {
    "scrolled": true
   },
   "outputs": [
    {
     "name": "stdout",
     "output_type": "stream",
     "text": [
      "Train on 24000 samples, validate on 6000 samples\n",
      "Epoch 1/100\n",
      "24000/24000 [==============================] - 289s 12ms/step - loss: 2.6947 - acc: 0.6287 - val_loss: 3.0704 - val_acc: 0.6141\n",
      "Epoch 2/100\n",
      "24000/24000 [==============================] - 277s 12ms/step - loss: 2.3528 - acc: 0.6889 - val_loss: 2.9479 - val_acc: 0.6269\n",
      "Epoch 3/100\n",
      "24000/24000 [==============================] - 284s 12ms/step - loss: 2.2321 - acc: 0.6937 - val_loss: 2.8542 - val_acc: 0.6329\n",
      "Epoch 4/100\n",
      "24000/24000 [==============================] - 249s 10ms/step - loss: 2.1570 - acc: 0.6939 - val_loss: 2.7979 - val_acc: 0.6362\n",
      "Epoch 5/100\n",
      "24000/24000 [==============================] - 248s 10ms/step - loss: 2.1005 - acc: 0.6956 - val_loss: 2.7595 - val_acc: 0.6391\n",
      "Epoch 6/100\n",
      "24000/24000 [==============================] - 154s 6ms/step - loss: 2.0280 - acc: 0.7065 - val_loss: 2.6150 - val_acc: 0.6747\n",
      "Epoch 7/100\n",
      "24000/24000 [==============================] - 145s 6ms/step - loss: 1.8093 - acc: 0.7414 - val_loss: 2.3695 - val_acc: 0.7061\n",
      "Epoch 8/100\n",
      "24000/24000 [==============================] - 150s 6ms/step - loss: 1.5529 - acc: 0.7648 - val_loss: 2.1156 - val_acc: 0.7241\n",
      "Epoch 9/100\n",
      "24000/24000 [==============================] - 151s 6ms/step - loss: 1.3008 - acc: 0.7858 - val_loss: 1.9182 - val_acc: 0.7396\n",
      "Epoch 10/100\n",
      "24000/24000 [==============================] - 152s 6ms/step - loss: 1.0721 - acc: 0.8039 - val_loss: 1.8188 - val_acc: 0.7495\n",
      "Epoch 11/100\n",
      "24000/24000 [==============================] - 157s 7ms/step - loss: 0.8744 - acc: 0.8226 - val_loss: 1.7560 - val_acc: 0.7595\n",
      "Epoch 12/100\n",
      "24000/24000 [==============================] - 159s 7ms/step - loss: 0.7113 - acc: 0.8421 - val_loss: 1.7144 - val_acc: 0.7648\n",
      "Epoch 13/100\n",
      "24000/24000 [==============================] - 164s 7ms/step - loss: 0.5808 - acc: 0.8582 - val_loss: 1.6834 - val_acc: 0.7684\n",
      "Epoch 14/100\n",
      "24000/24000 [==============================] - 167s 7ms/step - loss: 0.4794 - acc: 0.8715 - val_loss: 1.6576 - val_acc: 0.7727\n",
      "Epoch 15/100\n",
      "24000/24000 [==============================] - 167s 7ms/step - loss: 0.4052 - acc: 0.8803 - val_loss: 1.6380 - val_acc: 0.7763\n",
      "Epoch 16/100\n",
      "24000/24000 [==============================] - 168s 7ms/step - loss: 0.3511 - acc: 0.8864 - val_loss: 1.6253 - val_acc: 0.7792\n",
      "Epoch 17/100\n",
      "24000/24000 [==============================] - 168s 7ms/step - loss: 0.3118 - acc: 0.8913 - val_loss: 1.6242 - val_acc: 0.7792\n",
      "Epoch 18/100\n",
      "24000/24000 [==============================] - 167s 7ms/step - loss: 0.2848 - acc: 0.8939 - val_loss: 1.6173 - val_acc: 0.7807\n",
      "Epoch 19/100\n",
      "24000/24000 [==============================] - 168s 7ms/step - loss: 0.2653 - acc: 0.8959 - val_loss: 1.6129 - val_acc: 0.7813\n",
      "Epoch 20/100\n",
      "24000/24000 [==============================] - 167s 7ms/step - loss: 0.2514 - acc: 0.8969 - val_loss: 1.6103 - val_acc: 0.7823\n",
      "Epoch 21/100\n",
      "24000/24000 [==============================] - 167s 7ms/step - loss: 0.2408 - acc: 0.8970 - val_loss: 1.6106 - val_acc: 0.7831\n",
      "Epoch 22/100\n",
      "24000/24000 [==============================] - 167s 7ms/step - loss: 0.2327 - acc: 0.8977 - val_loss: 1.6227 - val_acc: 0.7794\n",
      "Epoch 23/100\n",
      "24000/24000 [==============================] - 171s 7ms/step - loss: 0.2263 - acc: 0.8978 - val_loss: 1.6299 - val_acc: 0.7795\n",
      "Epoch 24/100\n",
      "24000/24000 [==============================] - 169s 7ms/step - loss: 0.2214 - acc: 0.8981 - val_loss: 1.6321 - val_acc: 0.7793\n",
      "Epoch 25/100\n",
      "24000/24000 [==============================] - 170s 7ms/step - loss: 0.2174 - acc: 0.8980 - val_loss: 1.6270 - val_acc: 0.7818\n",
      "Epoch 26/100\n",
      "24000/24000 [==============================] - 168s 7ms/step - loss: 0.2139 - acc: 0.8984 - val_loss: 1.6348 - val_acc: 0.7820\n",
      "Epoch 27/100\n",
      "24000/24000 [==============================] - 169s 7ms/step - loss: 0.2107 - acc: 0.8993 - val_loss: 1.6341 - val_acc: 0.7801\n",
      "Epoch 28/100\n",
      "24000/24000 [==============================] - 171s 7ms/step - loss: 0.2080 - acc: 0.8991 - val_loss: 1.6384 - val_acc: 0.7790\n",
      "Epoch 29/100\n",
      "24000/24000 [==============================] - 170s 7ms/step - loss: 0.2062 - acc: 0.8987 - val_loss: 1.6387 - val_acc: 0.7811\n",
      "Epoch 30/100\n",
      "24000/24000 [==============================] - 168s 7ms/step - loss: 0.2044 - acc: 0.8986 - val_loss: 1.6362 - val_acc: 0.7803\n",
      "Epoch 31/100\n",
      "24000/24000 [==============================] - 163s 7ms/step - loss: 0.2027 - acc: 0.8993 - val_loss: 1.6411 - val_acc: 0.7804\n",
      "Epoch 32/100\n",
      "24000/24000 [==============================] - 199s 8ms/step - loss: 0.2014 - acc: 0.8986 - val_loss: 1.6579 - val_acc: 0.7780\n",
      "Epoch 33/100\n",
      "24000/24000 [==============================] - 293s 12ms/step - loss: 0.1996 - acc: 0.8990 - val_loss: 1.6699 - val_acc: 0.7766\n",
      "Epoch 34/100\n",
      "24000/24000 [==============================] - 299s 12ms/step - loss: 0.1985 - acc: 0.8994 - val_loss: 1.6488 - val_acc: 0.7801\n",
      "Epoch 35/100\n",
      "24000/24000 [==============================] - 283s 12ms/step - loss: 0.1970 - acc: 0.8994 - val_loss: 1.6568 - val_acc: 0.7792\n",
      "Epoch 36/100\n",
      "24000/24000 [==============================] - 275s 11ms/step - loss: 0.1958 - acc: 0.8991 - val_loss: 1.6735 - val_acc: 0.7788\n",
      "Epoch 37/100\n",
      "24000/24000 [==============================] - 262s 11ms/step - loss: 0.1949 - acc: 0.8996 - val_loss: 1.6698 - val_acc: 0.7780\n",
      "Epoch 38/100\n",
      "24000/24000 [==============================] - 211s 9ms/step - loss: 0.1945 - acc: 0.8993 - val_loss: 1.6768 - val_acc: 0.7781\n",
      "Epoch 39/100\n",
      "24000/24000 [==============================] - 145s 6ms/step - loss: 0.1934 - acc: 0.8992 - val_loss: 1.6789 - val_acc: 0.7768\n",
      "Epoch 40/100\n",
      "24000/24000 [==============================] - 155s 6ms/step - loss: 0.1926 - acc: 0.8996 - val_loss: 1.6949 - val_acc: 0.7780\n",
      "Epoch 41/100\n",
      "24000/24000 [==============================] - 153s 6ms/step - loss: 0.1922 - acc: 0.8991 - val_loss: 1.7125 - val_acc: 0.7744\n",
      "Epoch 42/100\n",
      "24000/24000 [==============================] - 155s 6ms/step - loss: 0.1912 - acc: 0.8990 - val_loss: 1.7083 - val_acc: 0.7760\n",
      "Epoch 43/100\n",
      "24000/24000 [==============================] - 156s 6ms/step - loss: 0.1905 - acc: 0.8992 - val_loss: 1.7104 - val_acc: 0.7754\n",
      "Epoch 44/100\n",
      "24000/24000 [==============================] - 156s 6ms/step - loss: 0.1895 - acc: 0.8998 - val_loss: 1.7042 - val_acc: 0.7754\n",
      "Epoch 45/100\n",
      "24000/24000 [==============================] - 178s 7ms/step - loss: 0.1889 - acc: 0.8997 - val_loss: 1.7115 - val_acc: 0.7751\n",
      "Epoch 46/100\n",
      "24000/24000 [==============================] - 287s 12ms/step - loss: 0.1887 - acc: 0.8995 - val_loss: 1.7337 - val_acc: 0.7746\n",
      "Epoch 47/100\n",
      "24000/24000 [==============================] - 291s 12ms/step - loss: 0.1882 - acc: 0.8991 - val_loss: 1.7210 - val_acc: 0.7736\n",
      "Epoch 48/100\n",
      "24000/24000 [==============================] - 293s 12ms/step - loss: 0.1874 - acc: 0.8998 - val_loss: 1.7231 - val_acc: 0.7746\n",
      "Epoch 49/100\n",
      "24000/24000 [==============================] - 266s 11ms/step - loss: 0.1868 - acc: 0.8992 - val_loss: 1.7438 - val_acc: 0.7726\n",
      "Epoch 50/100\n",
      "24000/24000 [==============================] - 275s 11ms/step - loss: 0.1859 - acc: 0.8996 - val_loss: 1.7562 - val_acc: 0.7724\n",
      "Epoch 51/100\n",
      "24000/24000 [==============================] - 277s 12ms/step - loss: 0.1855 - acc: 0.8998 - val_loss: 1.7714 - val_acc: 0.7708\n",
      "Epoch 52/100\n",
      "24000/24000 [==============================] - 277s 12ms/step - loss: 0.1855 - acc: 0.8985 - val_loss: 1.7489 - val_acc: 0.7728\n",
      "Epoch 53/100\n",
      "24000/24000 [==============================] - 267s 11ms/step - loss: 0.1850 - acc: 0.8993 - val_loss: 1.7640 - val_acc: 0.7727\n",
      "Epoch 54/100\n",
      "24000/24000 [==============================] - 262s 11ms/step - loss: 0.1839 - acc: 0.8992 - val_loss: 1.7847 - val_acc: 0.7706\n",
      "Epoch 55/100\n",
      "24000/24000 [==============================] - 279s 12ms/step - loss: 0.1838 - acc: 0.8985 - val_loss: 1.7442 - val_acc: 0.7736\n",
      "Epoch 56/100\n",
      "24000/24000 [==============================] - 292s 12ms/step - loss: 0.1834 - acc: 0.8988 - val_loss: 1.7923 - val_acc: 0.7690\n",
      "Epoch 57/100\n",
      "24000/24000 [==============================] - 282s 12ms/step - loss: 0.1827 - acc: 0.8990 - val_loss: 1.7829 - val_acc: 0.7705\n",
      "Epoch 58/100\n",
      "24000/24000 [==============================] - 229s 10ms/step - loss: 0.1827 - acc: 0.8989 - val_loss: 1.7984 - val_acc: 0.7711\n",
      "Epoch 59/100\n"
     ]
    },
    {
     "name": "stdout",
     "output_type": "stream",
     "text": [
      "24000/24000 [==============================] - 240s 10ms/step - loss: 0.1823 - acc: 0.8990 - val_loss: 1.8004 - val_acc: 0.7699\n",
      "Epoch 60/100\n",
      "24000/24000 [==============================] - 242s 10ms/step - loss: 0.1815 - acc: 0.8994 - val_loss: 1.7911 - val_acc: 0.7712\n",
      "Epoch 61/100\n",
      "24000/24000 [==============================] - 243s 10ms/step - loss: 0.1811 - acc: 0.8994 - val_loss: 1.7806 - val_acc: 0.7725\n",
      "Epoch 62/100\n",
      "24000/24000 [==============================] - 242s 10ms/step - loss: 0.1807 - acc: 0.8993 - val_loss: 1.7813 - val_acc: 0.7716\n",
      "Epoch 63/100\n",
      "24000/24000 [==============================] - 241s 10ms/step - loss: 0.1799 - acc: 0.8993 - val_loss: 1.8155 - val_acc: 0.7683\n",
      "Epoch 64/100\n",
      "24000/24000 [==============================] - 242s 10ms/step - loss: 0.1799 - acc: 0.8989 - val_loss: 1.8157 - val_acc: 0.7681\n",
      "Epoch 65/100\n",
      "24000/24000 [==============================] - 237s 10ms/step - loss: 0.1797 - acc: 0.8991 - val_loss: 1.8301 - val_acc: 0.7693\n",
      "Epoch 66/100\n",
      "24000/24000 [==============================] - 238s 10ms/step - loss: 0.1795 - acc: 0.8988 - val_loss: 1.8320 - val_acc: 0.7694\n",
      "Epoch 67/100\n",
      "24000/24000 [==============================] - 26036s 1s/step - loss: 0.1790 - acc: 0.8988 - val_loss: 1.8391 - val_acc: 0.7689\n",
      "Epoch 68/100\n",
      "24000/24000 [==============================] - 235s 10ms/step - loss: 0.1783 - acc: 0.8990 - val_loss: 1.8455 - val_acc: 0.7679\n",
      "Epoch 69/100\n",
      "24000/24000 [==============================] - 246s 10ms/step - loss: 0.1782 - acc: 0.8989 - val_loss: 1.8415 - val_acc: 0.7687\n",
      "Epoch 70/100\n",
      "24000/24000 [==============================] - 243s 10ms/step - loss: 0.1780 - acc: 0.8987 - val_loss: 1.8421 - val_acc: 0.7686\n",
      "Epoch 71/100\n",
      "24000/24000 [==============================] - 246s 10ms/step - loss: 0.1773 - acc: 0.8994 - val_loss: 1.8491 - val_acc: 0.7682\n",
      "Epoch 72/100\n",
      "24000/24000 [==============================] - 244s 10ms/step - loss: 0.1772 - acc: 0.8993 - val_loss: 1.8486 - val_acc: 0.7696\n",
      "Epoch 73/100\n",
      "24000/24000 [==============================] - 252s 10ms/step - loss: 0.1768 - acc: 0.8989 - val_loss: 1.8723 - val_acc: 0.7672\n",
      "Epoch 74/100\n",
      "24000/24000 [==============================] - 250s 10ms/step - loss: 0.1766 - acc: 0.8989 - val_loss: 1.8835 - val_acc: 0.7671\n",
      "Epoch 75/100\n",
      "24000/24000 [==============================] - 252s 11ms/step - loss: 0.1764 - acc: 0.8987 - val_loss: 1.8939 - val_acc: 0.7662\n",
      "Epoch 76/100\n",
      "24000/24000 [==============================] - 269s 11ms/step - loss: 0.1757 - acc: 0.8991 - val_loss: 1.8876 - val_acc: 0.7667\n",
      "Epoch 77/100\n",
      "24000/24000 [==============================] - 279s 12ms/step - loss: 0.1757 - acc: 0.8992 - val_loss: 1.8782 - val_acc: 0.7673\n",
      "Epoch 78/100\n",
      "24000/24000 [==============================] - 262s 11ms/step - loss: 0.1755 - acc: 0.8984 - val_loss: 1.8999 - val_acc: 0.7662\n",
      "Epoch 79/100\n",
      "24000/24000 [==============================] - 272s 11ms/step - loss: 0.1747 - acc: 0.8992 - val_loss: 1.8897 - val_acc: 0.7666\n",
      "Epoch 80/100\n",
      "24000/24000 [==============================] - 284s 12ms/step - loss: 0.1745 - acc: 0.8994 - val_loss: 1.9115 - val_acc: 0.7666\n",
      "Epoch 81/100\n",
      "24000/24000 [==============================] - 261s 11ms/step - loss: 0.1746 - acc: 0.8989 - val_loss: 1.8925 - val_acc: 0.7679\n",
      "Epoch 82/100\n",
      "24000/24000 [==============================] - 255s 11ms/step - loss: 0.1740 - acc: 0.8991 - val_loss: 1.9315 - val_acc: 0.7658\n",
      "Epoch 83/100\n",
      "24000/24000 [==============================] - 276s 12ms/step - loss: 0.1735 - acc: 0.8991 - val_loss: 1.9241 - val_acc: 0.7666\n",
      "Epoch 84/100\n",
      "24000/24000 [==============================] - 270s 11ms/step - loss: 0.1732 - acc: 0.8992 - val_loss: 1.9216 - val_acc: 0.7657\n",
      "Epoch 85/100\n",
      "24000/24000 [==============================] - 274s 11ms/step - loss: 0.1726 - acc: 0.8990 - val_loss: 1.9222 - val_acc: 0.7666\n",
      "Epoch 86/100\n",
      "24000/24000 [==============================] - 271s 11ms/step - loss: 0.1725 - acc: 0.8992 - val_loss: 1.9164 - val_acc: 0.7674\n",
      "Epoch 87/100\n",
      "24000/24000 [==============================] - 233s 10ms/step - loss: 0.1724 - acc: 0.8990 - val_loss: 1.9292 - val_acc: 0.7665\n",
      "Epoch 88/100\n",
      "24000/24000 [==============================] - 148s 6ms/step - loss: 0.1719 - acc: 0.8991 - val_loss: 1.9260 - val_acc: 0.7647\n",
      "Epoch 89/100\n",
      "24000/24000 [==============================] - 161s 7ms/step - loss: 0.1717 - acc: 0.8986 - val_loss: 1.9274 - val_acc: 0.7663\n",
      "Epoch 90/100\n",
      "24000/24000 [==============================] - 169s 7ms/step - loss: 0.1718 - acc: 0.8987 - val_loss: 1.9709 - val_acc: 0.7655\n",
      "Epoch 91/100\n",
      "24000/24000 [==============================] - 169s 7ms/step - loss: 0.1714 - acc: 0.8988 - val_loss: 1.9510 - val_acc: 0.7662\n",
      "Epoch 92/100\n",
      "24000/24000 [==============================] - 169s 7ms/step - loss: 0.1711 - acc: 0.8992 - val_loss: 1.9473 - val_acc: 0.7658\n",
      "Epoch 93/100\n",
      "24000/24000 [==============================] - 169s 7ms/step - loss: 0.1709 - acc: 0.8995 - val_loss: 1.9589 - val_acc: 0.7647\n",
      "Epoch 94/100\n",
      "24000/24000 [==============================] - 169s 7ms/step - loss: 0.1704 - acc: 0.8992 - val_loss: 1.9660 - val_acc: 0.7662\n",
      "Epoch 95/100\n",
      "24000/24000 [==============================] - 168s 7ms/step - loss: 0.1702 - acc: 0.8994 - val_loss: 1.9708 - val_acc: 0.7644\n",
      "Epoch 96/100\n",
      "24000/24000 [==============================] - 169s 7ms/step - loss: 0.1696 - acc: 0.8993 - val_loss: 1.9691 - val_acc: 0.7647\n",
      "Epoch 97/100\n",
      "24000/24000 [==============================] - 168s 7ms/step - loss: 0.1699 - acc: 0.8988 - val_loss: 1.9859 - val_acc: 0.7658\n",
      "Epoch 98/100\n",
      "24000/24000 [==============================] - 168s 7ms/step - loss: 0.1693 - acc: 0.8990 - val_loss: 2.0120 - val_acc: 0.7644\n",
      "Epoch 99/100\n",
      "24000/24000 [==============================] - 168s 7ms/step - loss: 0.1694 - acc: 0.8984 - val_loss: 1.9891 - val_acc: 0.7660\n",
      "Epoch 100/100\n",
      "24000/24000 [==============================] - 169s 7ms/step - loss: 0.1688 - acc: 0.8986 - val_loss: 1.9903 - val_acc: 0.7649\n"
     ]
    }
   ],
   "source": [
    "r = model.fit([encoder_inputs, decoder_inputs, z, z], decoder_targets_one_hot,batch_size=BATCH_SIZE,epochs=EPOCHS,validation_split=0.2)"
   ]
  },
  {
   "cell_type": "code",
   "execution_count": 36,
   "metadata": {},
   "outputs": [
    {
     "name": "stderr",
     "output_type": "stream",
     "text": [
      "C:\\ProgramData\\Anaconda3\\lib\\site-packages\\keras\\engine\\network.py:877: UserWarning: Layer lstm_2 was passed non-serializable keyword arguments: {'initial_state': [<tf.Tensor 's0:0' shape=(?, 256) dtype=float32>, <tf.Tensor 'c0:0' shape=(?, 256) dtype=float32>]}. They will not be included in the serialized model (and thus will be missing at deserialization time).\n",
      "  '. They will not be included '\n",
      "C:\\ProgramData\\Anaconda3\\lib\\site-packages\\keras\\engine\\network.py:877: UserWarning: Layer lstm_2 was passed non-serializable keyword arguments: {'initial_state': [<tf.Tensor 'lstm_2/while/Exit_3:0' shape=(?, 256) dtype=float32>, <tf.Tensor 'lstm_2/while/Exit_4:0' shape=(?, 256) dtype=float32>]}. They will not be included in the serialized model (and thus will be missing at deserialization time).\n",
      "  '. They will not be included '\n",
      "C:\\ProgramData\\Anaconda3\\lib\\site-packages\\keras\\engine\\network.py:877: UserWarning: Layer lstm_2 was passed non-serializable keyword arguments: {'initial_state': [<tf.Tensor 'lstm_2_1/while/Exit_3:0' shape=(?, 256) dtype=float32>, <tf.Tensor 'lstm_2_1/while/Exit_4:0' shape=(?, 256) dtype=float32>]}. They will not be included in the serialized model (and thus will be missing at deserialization time).\n",
      "  '. They will not be included '\n",
      "C:\\ProgramData\\Anaconda3\\lib\\site-packages\\keras\\engine\\network.py:877: UserWarning: Layer lstm_2 was passed non-serializable keyword arguments: {'initial_state': [<tf.Tensor 'lstm_2_2/while/Exit_3:0' shape=(?, 256) dtype=float32>, <tf.Tensor 'lstm_2_2/while/Exit_4:0' shape=(?, 256) dtype=float32>]}. They will not be included in the serialized model (and thus will be missing at deserialization time).\n",
      "  '. They will not be included '\n",
      "C:\\ProgramData\\Anaconda3\\lib\\site-packages\\keras\\engine\\network.py:877: UserWarning: Layer lstm_2 was passed non-serializable keyword arguments: {'initial_state': [<tf.Tensor 'lstm_2_3/while/Exit_3:0' shape=(?, 256) dtype=float32>, <tf.Tensor 'lstm_2_3/while/Exit_4:0' shape=(?, 256) dtype=float32>]}. They will not be included in the serialized model (and thus will be missing at deserialization time).\n",
      "  '. They will not be included '\n",
      "C:\\ProgramData\\Anaconda3\\lib\\site-packages\\keras\\engine\\network.py:877: UserWarning: Layer lstm_2 was passed non-serializable keyword arguments: {'initial_state': [<tf.Tensor 'lstm_2_4/while/Exit_3:0' shape=(?, 256) dtype=float32>, <tf.Tensor 'lstm_2_4/while/Exit_4:0' shape=(?, 256) dtype=float32>]}. They will not be included in the serialized model (and thus will be missing at deserialization time).\n",
      "  '. They will not be included '\n",
      "C:\\ProgramData\\Anaconda3\\lib\\site-packages\\keras\\engine\\network.py:877: UserWarning: Layer lstm_2 was passed non-serializable keyword arguments: {'initial_state': [<tf.Tensor 'lstm_2_5/while/Exit_3:0' shape=(?, 256) dtype=float32>, <tf.Tensor 'lstm_2_5/while/Exit_4:0' shape=(?, 256) dtype=float32>]}. They will not be included in the serialized model (and thus will be missing at deserialization time).\n",
      "  '. They will not be included '\n",
      "C:\\ProgramData\\Anaconda3\\lib\\site-packages\\keras\\engine\\network.py:877: UserWarning: Layer lstm_2 was passed non-serializable keyword arguments: {'initial_state': [<tf.Tensor 'lstm_2_6/while/Exit_3:0' shape=(?, 256) dtype=float32>, <tf.Tensor 'lstm_2_6/while/Exit_4:0' shape=(?, 256) dtype=float32>]}. They will not be included in the serialized model (and thus will be missing at deserialization time).\n",
      "  '. They will not be included '\n",
      "C:\\ProgramData\\Anaconda3\\lib\\site-packages\\keras\\engine\\network.py:877: UserWarning: Layer lstm_2 was passed non-serializable keyword arguments: {'initial_state': [<tf.Tensor 'lstm_2_7/while/Exit_3:0' shape=(?, 256) dtype=float32>, <tf.Tensor 'lstm_2_7/while/Exit_4:0' shape=(?, 256) dtype=float32>]}. They will not be included in the serialized model (and thus will be missing at deserialization time).\n",
      "  '. They will not be included '\n"
     ]
    }
   ],
   "source": [
    "model.save('attention_model.h5')"
   ]
  },
  {
   "cell_type": "code",
   "execution_count": 37,
   "metadata": {},
   "outputs": [
    {
     "data": {
      "image/png": "[encoded data removed]",
      "text/plain": [
       "<Figure size 432x288 with 1 Axes>"
      ]
     },
     "metadata": {
      "needs_background": "light"
     },
     "output_type": "display_data"
    }
   ],
   "source": [
    "plt.plot(r.history['loss'], label='loss')\n",
    "plt.plot(r.history['val_loss'], label='val_loss')\n",
    "plt.legend()\n",
    "plt.show()"
   ]
  },
  {
   "cell_type": "code",
   "execution_count": 38,
   "metadata": {},
   "outputs": [
    {
     "data": {
      "image/png": "[encoded data removed]",
      "text/plain": [
       "<Figure size 432x288 with 1 Axes>"
      ]
     },
     "metadata": {
      "needs_background": "light"
     },
     "output_type": "display_data"
    }
   ],
   "source": [
    "plt.plot(r.history['acc'], label='acc')\n",
    "plt.plot(r.history['val_acc'], label='val_acc')\n",
    "plt.legend()\n",
    "plt.show()"
   ]
  },
  {
   "cell_type": "code",
   "execution_count": 39,
   "metadata": {},
   "outputs": [],
   "source": [
    "encoder_model = Model(encoder_inputs_placeholder, encoder_outputs)"
   ]
  },
  {
   "cell_type": "code",
   "execution_count": 40,
   "metadata": {},
   "outputs": [],
   "source": [
    "encoder_outputs_as_input = Input(shape=(max_len_input, LATENT_DIM * 2,))\n",
    "decoder_inputs_single = Input(shape=(1,))\n",
    "decoder_inputs_single_x = decoder_embedding(decoder_inputs_single)"
   ]
  },
  {
   "cell_type": "code",
   "execution_count": 41,
   "metadata": {},
   "outputs": [],
   "source": [
    "import tensorflow as tf"
   ]
  },
  {
   "cell_type": "code",
   "execution_count": 42,
   "metadata": {},
   "outputs": [],
   "source": [
    "context = one_step_attention(encoder_outputs_as_input, initial_s)\n",
    "decoder_lstm_input = context_last_word_concat_layer([context, decoder_inputs_single_x])\n",
    "o, s, c = decoder_lstm(decoder_lstm_input, initial_state=[initial_s,initial_c])\n",
    "decoder_outputs = decoder_dense(o)"
   ]
  },
  {
   "cell_type": "code",
   "execution_count": 43,
   "metadata": {},
   "outputs": [],
   "source": [
    "decoder_model = Model(inputs=[decoder_inputs_single,encoder_outputs_as_input,initial_s,initial_c],outputs=[decoder_outputs, s, c])"
   ]
  },
  {
   "cell_type": "code",
   "execution_count": 46,
   "metadata": {},
   "outputs": [],
   "source": [
    "idx2word_eng = {v:k for k, v in word2idx_inputs.items()}\n",
    "idx2word_trans = {v:k for k, v in word2idx_outputs.items()}"
   ]
  },
  {
   "cell_type": "code",
   "execution_count": 47,
   "metadata": {},
   "outputs": [],
   "source": [
    "def decode_sequence(input_seq):\n",
    "    enc_out = encoder_model.predict(input_seq)\n",
    "\n",
    "    target_seq = np.zeros((1, 1))\n",
    "    target_seq[0, 0] = word2idx_outputs['<sos>']\n",
    "\n",
    "    eos = word2idx_outputs['<eos>']\n",
    "    s = np.zeros((1, LATENT_DIM_DECODER))\n",
    "    c = np.zeros((1, LATENT_DIM_DECODER))\n",
    "\n",
    "    output_sentence = []\n",
    "    for _ in range(max_len_target):\n",
    "        o, s, c = decoder_model.predict([target_seq, enc_out, s, c])\n",
    "\n",
    "        idx = np.argmax(o.flatten())\n",
    "        if eos == idx:\n",
    "            break\n",
    "\n",
    "        word = ''\n",
    "        if idx > 0:\n",
    "            word = idx2word_trans[idx]\n",
    "            output_sentence.append(word)\n",
    "\n",
    "        target_seq[0, 0] = idx\n",
    "\n",
    "    return ' '.join(output_sentence)"
   ]
  },
  {
   "cell_type": "code",
   "execution_count": 48,
   "metadata": {},
   "outputs": [
    {
     "name": "stdout",
     "output_type": "stream",
     "text": [
      "-\n",
      "Input sentence: I'm at my place.\n",
      "Predicted translation: io sono sulla mia strada.\n",
      "Actual translation: Sono a casa. <eos>\n",
      "Continue? [Y/n]Y\n",
      "-\n",
      "Input sentence: You were lucky.\n",
      "Predicted translation: eri fortunata.\n",
      "Actual translation: Lei era fortunato. <eos>\n",
      "Continue? [Y/n]Y\n",
      "-\n",
      "Input sentence: I'm forgetful.\n",
      "Predicted translation: sono smemorata.\n",
      "Actual translation: Io sono smemorata. <eos>\n",
      "Continue? [Y/n]y\n",
      "-\n",
      "Input sentence: See you later.\n",
      "Predicted translation: ci vediamo più tardi.\n",
      "Actual translation: Ci vediamo più tardi. <eos>\n",
      "Continue? [Y/n]y\n",
      "-\n",
      "Input sentence: Here's your tea.\n",
      "Predicted translation: ecco il vostro cibo.\n",
      "Actual translation: Ecco il vostro tè. <eos>\n",
      "Continue? [Y/n]\n",
      "-\n",
      "Input sentence: I tried that.\n",
      "Predicted translation: io l'ho provato.\n",
      "Actual translation: Io lo provai. <eos>\n",
      "Continue? [Y/n]\n",
      "-\n",
      "Input sentence: You'll go far.\n",
      "Predicted translation: andrete lontano.\n",
      "Actual translation: Andrete lontano. <eos>\n",
      "Continue? [Y/n]y\n",
      "-\n",
      "Input sentence: Tom refused.\n",
      "Predicted translation: tom ha rifiutato.\n",
      "Actual translation: Tom ha rifiutato. <eos>\n",
      "Continue? [Y/n]n\n"
     ]
    }
   ],
   "source": [
    "while True:\n",
    "    i = np.random.choice(len(input_texts))\n",
    "    input_seq = encoder_inputs[i:i+1]\n",
    "    translation = decode_sequence(input_seq)\n",
    "    print('-')\n",
    "    print('Input sentence:', input_texts[i])\n",
    "    print('Predicted translation:', translation)\n",
    "    print('Actual translation:', target_texts[i])\n",
    "\n",
    "    ans = input(\"Continue? [Y/n]\")\n",
    "    if ans and ans.lower().startswith('n'):\n",
    "        break\n"
   ]
  },
  {
   "cell_type": "code",
   "execution_count": null,
   "metadata": {},
   "outputs": [],
   "source": []
  }
 ],
 "metadata": {
  "kernelspec": {
   "display_name": "Python 3",
   "language": "python",
   "name": "python3"
  },
  "language_info": {
   "codemirror_mode": {
    "name": "ipython",
    "version": 3
   },
   "file_extension": ".py",
   "mimetype": "text/x-python",
   "name": "python",
   "nbconvert_exporter": "python",
   "pygments_lexer": "ipython3",
   "version": "3.7.3"
  }
 },
 "nbformat": 4,
 "nbformat_minor": 2
}
